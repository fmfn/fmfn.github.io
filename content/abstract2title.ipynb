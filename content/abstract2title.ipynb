{
 "cells": [
  {
   "cell_type": "code",
   "execution_count": 250,
   "metadata": {
    "collapsed": false
   },
   "outputs": [],
   "source": [
    "import numpy as np\n",
    "from scipy import sparse\n",
    "import pandas as pd\n",
    "\n",
    "from keras.layers import LSTM, GRU, Dense, RepeatVector, Input, Embedding, TimeDistributed\n",
    "from keras.models import Sequential, Model\n",
    "from keras.objectives import categorical_crossentropy, sparse_categorical_crossentropy\n",
    "import keras.backend as K\n",
    "\n",
    "from sklearn.preprocessing import OneHotEncoder\n",
    "\n",
    "import string_to_array"
   ]
  },
  {
   "cell_type": "markdown",
   "metadata": {},
   "source": [
    "# Data"
   ]
  },
  {
   "cell_type": "code",
   "execution_count": 95,
   "metadata": {
    "collapsed": false
   },
   "outputs": [],
   "source": [
    "X = pd.read_csv(\"../data/x_a10k_v15k.csv\").values.astype(np.int32)\n",
    "# X = pd.read_csv(\"/mnt/simxiv/data/x_a1M_v150k.csv\").values.astype(np.int32)"
   ]
  },
  {
   "cell_type": "code",
   "execution_count": 96,
   "metadata": {
    "collapsed": true
   },
   "outputs": [],
   "source": [
    "df = pd.read_json(\"../data/arxiv-10k.json\")\n",
    "# df = pd.read_json(\"/mnt/simxiv/data/arxiv-1M.json\")"
   ]
  },
  {
   "cell_type": "code",
   "execution_count": 109,
   "metadata": {
    "collapsed": false
   },
   "outputs": [],
   "source": [
    "maxlen = 64\n",
    "title_size = 16\n",
    "max_features = min(1500 - 1, X.max()) + 1"
   ]
  },
  {
   "cell_type": "code",
   "execution_count": 253,
   "metadata": {
    "collapsed": false,
    "scrolled": true
   },
   "outputs": [
    {
     "name": "stdout",
     "output_type": "stream",
     "text": [
      "CPU times: user 14.2 s, sys: 151 ms, total: 14.3 s\n",
      "Wall time: 14.3 s\n"
     ]
    }
   ],
   "source": [
    "%%time\n",
    "Y = []\n",
    "\n",
    "for _, row in df.iterrows():\n",
    "    Y.append(string_to_array.string_to_array(row['title'], maxlen=title_size, vocab_file='10k').flatten())\n",
    "    \n",
    "Y = np.array(Y)\n",
    "Y = np.expand_dims(Y, -1)"
   ]
  },
  {
   "cell_type": "code",
   "execution_count": 99,
   "metadata": {
    "collapsed": false
   },
   "outputs": [],
   "source": [
    "X[X >= max_features] = 1\n",
    "Y[Y >= max_features] = 1"
   ]
  },
  {
   "cell_type": "markdown",
   "metadata": {},
   "source": [
    "# Model"
   ]
  },
  {
   "cell_type": "code",
   "execution_count": 127,
   "metadata": {
    "collapsed": true
   },
   "outputs": [],
   "source": [
    "def char_softmax(y_true, y_pred):\n",
    "    return K.sum([categorical_crossentropy(y_true[:, i, :], y_pred[:, i, :]) for i in range(title_size)])\n",
    "\n",
    "def sparse_char_softmax(y_true, y_pred):\n",
    "    steps_loss = [sparse_categorical_crossentropy(y_true[:, i, :], y_pred[:, i, :]) for i in range(title_size)]\n",
    "    return K.sum(steps_loss)"
   ]
  },
  {
   "cell_type": "code",
   "execution_count": 101,
   "metadata": {
    "collapsed": true
   },
   "outputs": [],
   "source": [
    "input_layer = Input(shape=(maxlen, ), name='input', dtype='int32')"
   ]
  },
  {
   "cell_type": "code",
   "execution_count": 102,
   "metadata": {
    "collapsed": true
   },
   "outputs": [],
   "source": [
    "embedding = Sequential(name='embedding')\n",
    "embedding.add(Embedding(max_features, 50, input_length=maxlen, mask_zero=False, name=\"Embedding_layer\"))\n",
    "embedding = embedding(input_layer)"
   ]
  },
  {
   "cell_type": "code",
   "execution_count": 103,
   "metadata": {
    "collapsed": false
   },
   "outputs": [],
   "source": [
    "encoder = GRU(25, return_sequences=False, name='encode_rnn')(embedding)"
   ]
  },
  {
   "cell_type": "code",
   "execution_count": 117,
   "metadata": {
    "collapsed": false
   },
   "outputs": [],
   "source": [
    "decoder = RepeatVector(title_size, name='context_vector')(encoder)\n",
    "decoder = GRU(25, return_sequences=True, name='decode_rnn')(decoder)\n",
    "\n",
    "decoder = TimeDistributed(Dense(max_features, activation='softmax', name='output_sequence'))(decoder)"
   ]
  },
  {
   "cell_type": "code",
   "execution_count": 118,
   "metadata": {
    "collapsed": false
   },
   "outputs": [],
   "source": [
    "model = Model(input=input_layer, output=decoder)"
   ]
  },
  {
   "cell_type": "code",
   "execution_count": 119,
   "metadata": {
    "collapsed": false
   },
   "outputs": [
    {
     "name": "stdout",
     "output_type": "stream",
     "text": [
      "____________________________________________________________________________________________________\n",
      "Layer (type)                       Output Shape        Param #     Connected to                     \n",
      "====================================================================================================\n",
      "input (InputLayer)                 (None, 64)          0                                            \n",
      "____________________________________________________________________________________________________\n",
      "embedding (Sequential)             (None, 64, 50)      75000       input[0][0]                      \n",
      "____________________________________________________________________________________________________\n",
      "encode_rnn (GRU)                   (None, 25)          5700        embedding[1][0]                  \n",
      "____________________________________________________________________________________________________\n",
      "context_vector (RepeatVector)      (None, 16, 25)      0           encode_rnn[0][0]                 \n",
      "____________________________________________________________________________________________________\n",
      "decode_rnn (GRU)                   (None, 16, 25)      3825        context_vector[0][0]             \n",
      "____________________________________________________________________________________________________\n",
      "timedistributed_5 (TimeDistributed)(None, 16, 1500)    39000       decode_rnn[0][0]                 \n",
      "====================================================================================================\n",
      "Total params: 123525\n",
      "____________________________________________________________________________________________________\n"
     ]
    }
   ],
   "source": [
    "model.summary()"
   ]
  },
  {
   "cell_type": "code",
   "execution_count": 128,
   "metadata": {
    "collapsed": false
   },
   "outputs": [],
   "source": [
    "model.compile(loss=sparse_char_softmax, optimizer='rmsprop', metrics=['accuracy'])"
   ]
  },
  {
   "cell_type": "code",
   "execution_count": 229,
   "metadata": {
    "collapsed": false,
    "scrolled": true
   },
   "outputs": [
    {
     "data": {
      "text/plain": [
       "<keras.callbacks.History at 0x2159b3dd0>"
      ]
     },
     "execution_count": 229,
     "metadata": {},
     "output_type": "execute_result"
    }
   ],
   "source": [
    "model.fit(X[:10, :maxlen], Y[:10], nb_epoch=5000, verbose=0)"
   ]
  },
  {
   "cell_type": "code",
   "execution_count": 230,
   "metadata": {
    "collapsed": false
   },
   "outputs": [
    {
     "data": {
      "text/plain": [
       "[<matplotlib.lines.Line2D at 0x122d5ba50>]"
      ]
     },
     "execution_count": 230,
     "metadata": {},
     "output_type": "execute_result"
    },
    {
     "data": {
      "image/png": "[encoded data removed]",
      "text/plain": [
       "<matplotlib.figure.Figure at 0x121efad50>"
      ]
     },
     "metadata": {},
     "output_type": "display_data"
    }
   ],
   "source": [
    "import matplotlib.pyplot as plt\n",
    "plt.style.use([u'fivethirtyeight', 'dark_background'])\n",
    "%matplotlib inline\n",
    "plt.plot(model.history.history['loss'])"
   ]
  },
  {
   "cell_type": "code",
   "execution_count": 231,
   "metadata": {
    "collapsed": false
   },
   "outputs": [],
   "source": [
    "pred = model.predict(X[:, :maxlen])"
   ]
  },
  {
   "cell_type": "code",
   "execution_count": 232,
   "metadata": {
    "collapsed": false
   },
   "outputs": [],
   "source": [
    "titles = np.argmax(pred, axis=-1)"
   ]
  },
  {
   "cell_type": "code",
   "execution_count": 241,
   "metadata": {
    "collapsed": false
   },
   "outputs": [
    {
     "data": {
      "text/plain": [
       "'acoust weyl node from stack unkown chain'"
      ]
     },
     "execution_count": 241,
     "metadata": {},
     "output_type": "execute_result"
    }
   ],
   "source": [
    "string_to_array.array_to_string(titles[np.argmax(titles.max(axis=1))], vocab_file='10k')"
   ]
  },
  {
   "cell_type": "code",
   "execution_count": 238,
   "metadata": {
    "collapsed": false
   },
   "outputs": [
    {
     "data": {
      "text/plain": [
       "'exact solut for optim unkown of unkown unkown and the unkown equat'"
      ]
     },
     "execution_count": 238,
     "metadata": {},
     "output_type": "execute_result"
    }
   ],
   "source": [
    "string_to_array.array_to_string(titles[0], vocab_file='10k')"
   ]
  },
  {
   "cell_type": "code",
   "execution_count": 242,
   "metadata": {
    "collapsed": false,
    "scrolled": true
   },
   "outputs": [
    {
     "data": {
      "text/plain": [
       "u'Acoustic Weyl nodes from stacking dimerized chains'"
      ]
     },
     "execution_count": 242,
     "metadata": {},
     "output_type": "execute_result"
    }
   ],
   "source": [
    "df.title[np.argmax(titles.max(axis=1))]"
   ]
  },
  {
   "cell_type": "code",
   "execution_count": 237,
   "metadata": {
    "collapsed": false
   },
   "outputs": [
    {
     "data": {
      "text/plain": [
       "array([611,  91,  11, 115,   1,   3,   1,   1,   5,   2,   1,  81,   0,\n",
       "         0,   0,   0])"
      ]
     },
     "execution_count": 237,
     "metadata": {},
     "output_type": "execute_result"
    }
   ],
   "source": [
    "titles[0]"
   ]
  },
  {
   "cell_type": "code",
   "execution_count": null,
   "metadata": {
    "collapsed": true
   },
   "outputs": [],
   "source": []
  }
 ],
 "metadata": {
  "kernelspec": {
   "display_name": "Python 2",
   "language": "python",
   "name": "python2"
  },
  "language_info": {
   "codemirror_mode": {
    "name": "ipython",
    "version": 2
   },
   "file_extension": ".py",
   "mimetype": "text/x-python",
   "name": "python",
   "nbconvert_exporter": "python",
   "pygments_lexer": "ipython2",
   "version": "2.7.11"
  }
 },
 "nbformat": 4,
 "nbformat_minor": 0
}
